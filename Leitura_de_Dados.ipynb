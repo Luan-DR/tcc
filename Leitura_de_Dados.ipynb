{
  "nbformat": 4,
  "nbformat_minor": 0,
  "metadata": {
    "colab": {
      "provenance": [],
      "collapsed_sections": [],
      "authorship_tag": "ABX9TyN01Hoft9OqySu1vgdmYbFU",
      "include_colab_link": true
    },
    "kernelspec": {
      "name": "python3",
      "display_name": "Python 3"
    },
    "language_info": {
      "name": "python"
    }
  },
  "cells": [
    {
      "cell_type": "markdown",
      "metadata": {
        "id": "view-in-github",
        "colab_type": "text"
      },
      "source": [
        "<a href=\"https://colab.research.google.com/github/Luan-DR/tcc/blob/main/Leitura_de_Dados.ipynb\" target=\"_parent\"><img src=\"https://colab.research.google.com/assets/colab-badge.svg\" alt=\"Open In Colab\"/></a>"
      ]
    },
    {
      "cell_type": "markdown",
      "source": [
        "# Instalar Pyrebase"
      ],
      "metadata": {
        "id": "7XkayMVIkZnH"
      }
    },
    {
      "cell_type": "code",
      "source": [
        "!pip install pyrebase4"
      ],
      "metadata": {
        "id": "06sOWcBbkREE"
      },
      "execution_count": null,
      "outputs": []
    },
    {
      "cell_type": "markdown",
      "source": [
        "# Importar biblioteca"
      ],
      "metadata": {
        "id": "w9Iy3lYIkfx8"
      }
    },
    {
      "cell_type": "code",
      "source": [
        "import pyrebase\n",
        "import pandas as pd\n",
        "from pyasn1.type import char"
      ],
      "metadata": {
        "id": "ozPX2CfbkXZl"
      },
      "execution_count": null,
      "outputs": []
    },
    {
      "cell_type": "markdown",
      "source": [
        "# Leitura de dados"
      ],
      "metadata": {
        "id": "U8EomSj4kjH3"
      }
    },
    {
      "cell_type": "code",
      "execution_count": null,
      "metadata": {
        "colab": {
          "base_uri": "https://localhost:8080/",
          "height": 317
        },
        "id": "rFrQhnWNEfgr",
        "outputId": "035cbb82-6e7f-4b01-e435-28012d05b4c6"
      },
      "outputs": [
        {
          "output_type": "stream",
          "name": "stdout",
          "text": [
            "Temperatura atual 32.75 °C\n",
            "Umidade atual 1546\n",
            "Data atual 2022-09-15T13:06:56Z\n"
          ]
        },
        {
          "output_type": "display_data",
          "data": {
            "text/plain": [
              "<Figure size 864x288 with 2 Axes>"
            ],
            "image/png": "[encoded data removed]"
          },
          "metadata": {
            "needs_background": "light"
          }
        }
      ],
      "source": [
        "firebaseConfig = {'apiKey': \"xxxxxxxxxxxxxxxxxxxxxxxxx\",\n",
        "                  'authDomain': \"xxxxxxxxxxxxxxxxxxxxxxxxx\",\n",
        "                  'databaseURL': \"xxxxxxxxxxxxxxxxxxxxxxxxxx\",\n",
        "                  'projectId': \"xxxxxxxxxxxxxxxxxx\",\n",
        "                  'storageBucket': \"xxxxxxxxxxxxxxxxxxxxxxx\",\n",
        "                  'messagingSenderId': \"xxxxxxxxxxxxxxxxxx\",\n",
        "                  'appId': \"xxxxxxxxxxxxxxxxxxxxxxx\",\n",
        "                  'measurementId': \"xxxxxxxxxxxxxxxxxxxx\"}\n",
        "\n",
        "firebase = pyrebase.initialize_app(firebaseConfig)\n",
        "\n",
        "db = firebase.database()\n",
        "\n",
        "data = db.child(\"data\").get()\n",
        "\n",
        "valores = []\n",
        "for values in data.each():\n",
        "    if values.val()['tem'] != -127:\n",
        "        valores.append(values.val())\n",
        "    else:\n",
        "        continue\n",
        "\n",
        "\n",
        "df = pd.DataFrame(valores)\n",
        "df.plot.area(figsize=(12, 4), subplots=True)\n",
        "\n",
        "print(f'Temperatura atual {df[\"tem\"].iloc[-1]} °C')\n",
        "print(f'Umidade atual {df[\"hum\"].iloc[-1]}')\n",
        "print(f'Data atual {df[\"time\"].iloc[-1]}')"
      ]
    },
    {
      "cell_type": "markdown",
      "source": [
        "# **Para Rotacionar o motor**"
      ],
      "metadata": {
        "id": "C13feYNLwbfI"
      }
    },
    {
      "cell_type": "code",
      "source": [
        " db.child(\"motor\").update({'bool': False})"
      ],
      "metadata": {
        "colab": {
          "base_uri": "https://localhost:8080/"
        },
        "id": "TuYVa3xEwany",
        "outputId": "870907de-ec4b-4244-9c16-b9908de3caa5"
      },
      "execution_count": null,
      "outputs": [
        {
          "output_type": "execute_result",
          "data": {
            "text/plain": [
              "{'bool': False}"
            ]
          },
          "metadata": {},
          "execution_count": 41
        }
      ]
    }
  ]
}
